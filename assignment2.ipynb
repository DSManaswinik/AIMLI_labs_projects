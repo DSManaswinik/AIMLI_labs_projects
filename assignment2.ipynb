{
  "nbformat": 4,
  "nbformat_minor": 0,
  "metadata": {
    "colab": {
      "provenance": [],
      "authorship_tag": "ABX9TyNVpBNB4QrSkLD/bmqNs5TA",
      "include_colab_link": true
    },
    "kernelspec": {
      "name": "python3",
      "display_name": "Python 3"
    },
    "language_info": {
      "name": "python"
    }
  },
  "cells": [
    {
      "cell_type": "markdown",
      "metadata": {
        "id": "view-in-github",
        "colab_type": "text"
      },
      "source": [
        "<a href=\"https://colab.research.google.com/github/DSManaswinik/AIMLI_labs_projects/blob/main/assignment2.ipynb\" target=\"_parent\"><img src=\"https://colab.research.google.com/assets/colab-badge.svg\" alt=\"Open In Colab\"/></a>"
      ]
    },
    {
      "cell_type": "code",
      "execution_count": null,
      "metadata": {
        "id": "JLFKDzRqExdi"
      },
      "outputs": [],
      "source": []
    },
    {
      "cell_type": "markdown",
      "source": [
        "1. What is the best value for angle constraint and shear constraint you got? How much did the accuracy improve as compared to not using augmentations?\n",
        "Approach:\n",
        "Experiment with various angle constraints (e.g., 15°, 30°, 45°) and shear values to observe their effects on model performance.\n",
        "Measure accuracy on validation data with and without augmentations to quantify the improvement.\n",
        "Expected Outcome: Identify optimal constraints that yield the highest accuracy. Augmentations should help reduce overfitting and improve generalization.\n",
        "2. Can you increase the accuracy by increasing the number of augmentations from each sample?\n",
        "Approach:\n",
        "Create more augmented variations of each sample (e.g., 3, 5, 10 per image).\n",
        "Evaluate whether increasing the diversity of training data improves performance or leads to diminishing returns.\n",
        "Considerations:\n",
        "Excessive augmentations might lead to redundancy or computational inefficiency.\n",
        "Balance is key to ensure the augmented data represents meaningful variations.\n",
        "3. Try implementing a few augmentations of your own and experimenting with them. A good reference is here.\n",
        "Approach:\n",
        "Implement custom augmentations such as:\n",
        "Random brightness or contrast adjustments.\n",
        "Perspective transforms.\n",
        "Random noise addition or blur effects.\n",
        "Experiment with combinations to assess their effectiveness.\n",
        "Resources: Use libraries like TensorFlow, PyTorch, or Albumentations for implementation.\n",
        "4. Try combining various augmentations. What is the highest accuracy you can get?\n",
        "Approach:\n",
        "Combine augmentations (e.g., rotation + flipping, cropping + noise).\n",
        "Use a systematic method to compare combinations (e.g., grid search or random search).\n",
        "Objective: Discover synergies between augmentations that maximize model performance.\n",
        "5. What is the smallest training dataset you can take and still get accuracy above 50%?\n",
        "Approach:\n",
        "Gradually reduce the size of the training dataset while applying augmentations.\n",
        "Measure accuracy on the validation set for each dataset size.\n",
        "Insights:\n",
        "Understand the effectiveness of augmentations in compensating for smaller datasets.\n",
        "Learn about the model's ability to generalize with minimal data."
      ],
      "metadata": {
        "id": "zsAcki1REypb"
      }
    }
  ]
}