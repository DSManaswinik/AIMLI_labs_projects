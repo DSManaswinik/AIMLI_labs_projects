{
  "nbformat": 4,
  "nbformat_minor": 0,
  "metadata": {
    "colab": {
      "provenance": [],
      "authorship_tag": "ABX9TyM4WgIJ4Td5/8EaUiznnA2B",
      "include_colab_link": true
    },
    "kernelspec": {
      "name": "python3",
      "display_name": "Python 3"
    },
    "language_info": {
      "name": "python"
    }
  },
  "cells": [
    {
      "cell_type": "markdown",
      "metadata": {
        "id": "view-in-github",
        "colab_type": "text"
      },
      "source": [
        "<a href=\"https://colab.research.google.com/github/DSManaswinik/AIMLI_labs_projects/blob/main/assignment4.ipynb\" target=\"_parent\"><img src=\"https://colab.research.google.com/assets/colab-badge.svg\" alt=\"Open In Colab\"/></a>"
      ]
    },
    {
      "cell_type": "code",
      "execution_count": null,
      "metadata": {
        "id": "zr3tkAsdLyUC"
      },
      "outputs": [],
      "source": [
        "Exercise: PCA Exploration with Plotly\n",
        "How many components do you need to retain 90% of the variance in the data?\n",
        "To determine this:\n",
        "\n",
        "Perform Principal Component Analysis (PCA) on your dataset.\n",
        "Calculate the cumulative explained variance ratio by summing the explained variance of the principal components.\n",
        "Identify the smallest number of components required to achieve a cumulative variance of 90%. This is typically done using a scree plot, which shows the explained variance for each component. You can visually inspect the plot or use a threshold condition in code.\n",
        "Example in Python using sklearn:\n",
        "\n",
        "python\n",
        "Copy code\n",
        "from sklearn.decomposition import PCA\n",
        "import numpy as np\n",
        "\n",
        "# Assuming X is your data matrix\n",
        "pca = PCA().fit(X)\n",
        "cumulative_variance = np.cumsum(pca.explained_variance_ratio_)\n",
        "components_required = np.where(cumulative_variance >= 0.90)[0][0] + 1\n",
        "\n",
        "print(f\"Number of components required: {components_required}\")\n",
        "One Use Case for PCA\n",
        "Domain: Image Compression\n",
        "\n",
        "Application: In image compression, PCA is used to reduce the dimensionality of image data while retaining as much information as possible. Images often contain highly correlated pixel values, which PCA can transform into uncorrelated components ranked by importance.\n",
        "Steps:\n",
        "Flatten the image into a 2D array (if not already).\n",
        "Apply PCA to retain the top k components, where k is chosen based on the desired amount of retained variance (e.g., 90%).\n",
        "Reconstruct the image using the retained components, significantly reducing the storage size.\n",
        "Advantages: PCA reduces storage requirements and speeds up processing while maintaining visual quality.\n",
        "Example: PCA-based compression is commonly used in face recognition systems where reduced-dimensional data speeds up comparisons.\n"
      ]
    }
  ]
}