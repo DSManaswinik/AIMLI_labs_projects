{
  "nbformat": 4,
  "nbformat_minor": 0,
  "metadata": {
    "colab": {
      "provenance": [],
      "authorship_tag": "ABX9TyM/M22ecKUmj1FncNbwR7iW",
      "include_colab_link": true
    },
    "kernelspec": {
      "name": "python3",
      "display_name": "Python 3"
    },
    "language_info": {
      "name": "python"
    }
  },
  "cells": [
    {
      "cell_type": "markdown",
      "metadata": {
        "id": "view-in-github",
        "colab_type": "text"
      },
      "source": [
        "<a href=\"https://colab.research.google.com/github/DSManaswinik/AIMLI_labs_projects/blob/main/assignment5.ipynb\" target=\"_parent\"><img src=\"https://colab.research.google.com/assets/colab-badge.svg\" alt=\"Open In Colab\"/></a>"
      ]
    },
    {
      "cell_type": "code",
      "execution_count": null,
      "metadata": {
        "id": "WC0FynDDxufg"
      },
      "outputs": [],
      "source": []
    },
    {
      "cell_type": "markdown",
      "source": [
        "Heart Disease Dataset\n",
        "What is the percentage of Samples with Disease?\n",
        "Using the pie chart, we see that about 54.5% of the samples have heart disease.\n",
        "\n",
        "What are the 3 continuous features that show significant statistical difference in distribution with respect to the presence and absence of the disease?\n",
        "Based on the boxplots of continuous variables (age, chol, thalach, oldpeak, trestbps), the following features show significant differences:\n",
        "thalach (Maximum heart rate achieved)\n",
        "oldpeak (ST depression induced by exercise)\n",
        "chol (Serum cholesterol levels)\n",
        "\n",
        "Can we see a clear separation in terms of the presence/absence of disease in the features obtained from PCA and t-SNE plots?\n",
        "PCA: The PCA plot shows some level of separation between the two classes, but the overlap indicates that PCA alone might not be sufficient for clear discrimination.\n",
        "t-SNE: The t-SNE plot shows better clustering of the two classes compared to PCA, indicating that t-SNE captures non-linear relationships in the data.\n",
        "\n",
        "What is the optimal number of principal components in our case?\n",
        "From the cumulative explained variance plot, the optimal number of principal components is around 3, as they capture over 95% of the variance.\n",
        "\n",
        "What are the continuous features with the highest correlation with each other?\n",
        "From the correlation matrix, trestbps (resting blood pressure) and chol (cholesterol) have the highest correlation among the continuous variables, though it is not very strong.\n",
        "\n",
        "Starbucks Nutrition Dataset\n",
        "Create a pie chart of the Tea column and write your observation.\n",
        "Observations from the pie chart:\n",
        "Only about 13% of the beverages are categorized as tea.\n",
        "The majority of the beverages are non-tea drinks.\n",
        "\n",
        "Perform PCA on the data and plot the explained variance ratio. What is the optimal number of principal components in this case?\n",
        "The PCA plot shows that 5 principal components are sufficient to explain over 95% of the variance in the dataset.\n",
        "\n",
        "Visualize the principal components. What is your observation from the plot?\n",
        "The first two principal components provide a good visualization of the variance in the data.\n",
        "Tea and non-tea beverages show some level of separation, but there is still overlap, indicating the need for further analysis or additional features.\n",
        "\n",
        "Plot the first 2 components of t-SNE. What is your observation from the plot?\n",
        "The t-SNE plot shows better separation between tea and non-tea drinks compared to PCA, highlighting distinct clusters for each category.\n",
        "This indicates that t-SNE captures non-linear relationships in the dataset.\n",
        "\n",
        "Create a correlation matrix and plot the heatmap. What is your observation from the heatmap?\n",
        "Observations:\n",
        "High positive correlations between Calories and Total Fat (g), Saturated Fat (g), and Sugars (g).\n",
        "Caffeine (mg) does not strongly correlate with most other variables.\n",
        "Tea-related beverages tend to have lower values for fat and sugar.\n",
        "\n",
        "Make a boxplot of all the numeric columns of the dataset. Which column/columns can be the most potential indicator of whether it’s a tea or a non-tea drink?\n",
        "Potential indicators based on the boxplots:\n",
        "Caffeine (mg): Tea drinks generally have lower caffeine content.\n",
        "Calories: Tea drinks tend to have fewer calories than non-tea drinks.\n",
        "Sugars (g): Tea drinks usually have less sugar content compared to other drinks."
      ],
      "metadata": {
        "id": "1Eg_7cUUyYOI"
      }
    }
  ]
}